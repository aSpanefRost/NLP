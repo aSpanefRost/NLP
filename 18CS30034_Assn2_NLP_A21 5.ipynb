{
 "cells": [
  {
   "cell_type": "markdown",
   "metadata": {
    "id": "zyJ25uz0kSaw"
   },
   "source": [
    "# **Assignment-2 for CS60075: Natural Language Processing**\n",
    "\n",
    "#### Instructor : Prof. Sudeshna Sarkar\n",
    "\n",
    "#### Teaching Assistants : Alapan Kuila, Aniruddha Roy, Prithwish Jana, Udit Dharmin Desai\n",
    "\n",
    "#### Date of Announcement: 15th Sept, 2021\n",
    "#### Deadline for Submission: 11.59pm on Wednesday, 22nd Sept, 2021 \n",
    "#### Submit this .ipynb file, named as `<Your_Roll_Number>_Assn2_NLP_A21.ipynb`"
   ]
  },
  {
   "cell_type": "markdown",
   "metadata": {
    "id": "Ao1nhg9RknmF"
   },
   "source": [
    "The central idea of this assignment is to use Naive Bayes classifier and LSTM based classifier and compare the models by accuracy on IMDB dataset.  This dataset consists of 50k movie reviews (25k positive, 25k negative). You can download the dataset from https://www.kaggle.com/lakshmi25npathi/imdb-dataset-of-50k-movie-reviews\n",
    "\n"
   ]
  },
  {
   "cell_type": "markdown",
   "metadata": {
    "id": "ONM5Q4SCe9Mr"
   },
   "source": [
    "Please submit with outputs. "
   ]
  },
  {
   "cell_type": "code",
   "execution_count": 1,
   "metadata": {
    "colab": {
     "base_uri": "https://localhost:8080/"
    },
    "id": "ElRkQElWUMjG",
    "outputId": "8b26f190-bee3-4c57-95c9-407c41bbdf42"
   },
   "outputs": [
    {
     "name": "stderr",
     "output_type": "stream",
     "text": [
      "[nltk_data] Downloading package stopwords to\n",
      "[nltk_data]     C:\\Users\\rajde\\AppData\\Roaming\\nltk_data...\n",
      "[nltk_data]   Package stopwords is already up-to-date!\n",
      "[nltk_data] Downloading package punkt to\n",
      "[nltk_data]     C:\\Users\\rajde\\AppData\\Roaming\\nltk_data...\n",
      "[nltk_data]   Package punkt is already up-to-date!\n",
      "[nltk_data] Downloading package wordnet to\n",
      "[nltk_data]     C:\\Users\\rajde\\AppData\\Roaming\\nltk_data...\n",
      "[nltk_data]   Package wordnet is already up-to-date!\n",
      "[nltk_data] Downloading package averaged_perceptron_tagger to\n",
      "[nltk_data]     C:\\Users\\rajde\\AppData\\Roaming\\nltk_data...\n",
      "[nltk_data]   Package averaged_perceptron_tagger is already up-to-\n",
      "[nltk_data]       date!\n"
     ]
    },
    {
     "data": {
      "text/plain": [
       "True"
      ]
     },
     "execution_count": 1,
     "metadata": {},
     "output_type": "execute_result"
    }
   ],
   "source": [
    "import re\n",
    "import pandas as pd\n",
    "import numpy as np\n",
    "from sklearn.preprocessing import LabelEncoder\n",
    "from sklearn.model_selection import train_test_split\n",
    "from keras.preprocessing.text import Tokenizer\n",
    "from keras.preprocessing.sequence import pad_sequences\n",
    "import keras\n",
    "from sklearn.metrics import classification_report\n",
    "import nltk\n",
    "from nltk import pos_tag\n",
    "from nltk.corpus import stopwords\n",
    "from nltk.stem import WordNetLemmatizer\n",
    "from nltk.corpus import wordnet\n",
    "from nltk.tokenize import word_tokenize\n",
    "nltk.download('stopwords')\n",
    "nltk.download('punkt')\n",
    "nltk.download('wordnet')\n",
    "nltk.download('averaged_perceptron_tagger')"
   ]
  },
  {
   "cell_type": "code",
   "execution_count": 2,
   "metadata": {
    "colab": {
     "base_uri": "https://localhost:8080/",
     "height": 545
    },
    "id": "fhHRim2AUm4z",
    "outputId": "4792d3ed-b1be-4d3e-e8cf-79c49a4810ba"
   },
   "outputs": [
    {
     "data": {
      "text/plain": [
       "(50000, 2)"
      ]
     },
     "execution_count": 2,
     "metadata": {},
     "output_type": "execute_result"
    }
   ],
   "source": [
    "#Load the IMDB dataset. You can load it using pandas as dataframe\n",
    "#engine='python', error_bad_lines=False\n",
    "df=pd.read_csv(\"..\\Desktop\\IMDB Dataset.csv\")\n",
    "df.loc[0][1]\n",
    "df.shape"
   ]
  },
  {
   "cell_type": "markdown",
   "metadata": {
    "id": "lK_Hn2f6VMP7"
   },
   "source": [
    "# Preprocessing\n",
    "PrePrecessing that needs to be done on lower cased corpus\n",
    "\n",
    "1. Remove html tags\n",
    "2. Remove URLS\n",
    "3. Remove non alphanumeric character\n",
    "4. Remove Stopwords\n",
    "5. Perform stemming and lemmatization\n",
    "\n",
    "You can use regex from re. "
   ]
  },
  {
   "cell_type": "code",
   "execution_count": 3,
   "metadata": {
    "id": "5B5lHZPsVOXv"
   },
   "outputs": [],
   "source": [
    "stop_words = list(stopwords.words('english'))\n",
    "lemmatizer = WordNetLemmatizer()\n",
    "def get_wordnet_pos(word):\n",
    "    \"\"\"Map POS tag to first character lemmatize() accepts\"\"\"\n",
    "    tag = nltk.pos_tag([word])[0][1][0].upper()\n",
    "    tag_dict = {\"J\": wordnet.ADJ,\n",
    "                \"N\": wordnet.NOUN,\n",
    "                \"V\": wordnet.VERB,\n",
    "                \"R\": wordnet.ADV}\n",
    "\n",
    "    return tag_dict.get(tag, wordnet.NOUN)\n",
    "\n",
    "\n",
    "def cleanhtml(raw_html):\n",
    "  cleanr = re.compile('<.*?>')\n",
    "  cleantext = re.sub(cleanr, '', raw_html)\n",
    "  return cleantext\n",
    "\n",
    "def remURL(text):\n",
    "  return re.sub(r'http\\S+', '', text)  \n",
    "\n",
    "def remAlNu(text):\n",
    "  regex = re.compile('[^a-zA-Z0-9 ]')\n",
    "  return regex.sub('',text)\n",
    "\n",
    "def remStWrds(text):\n",
    "  tokens = text.split(\" \")\n",
    "  tokens_filtered= [word for word in tokens if not word in stop_words]\n",
    "  return (\" \").join(tokens_filtered)\n",
    "\n",
    "def lemma(text):\n",
    "  # tokens = text.split(\" \")\n",
    "  tokens=word_tokenize(text)\n",
    "  afterlemmatize = [lemmatizer.lemmatize(word,get_wordnet_pos(word)) for word in tokens ]\n",
    "  return (\" \").join(afterlemmatize)\n",
    "\n",
    "# df.head()\n",
    "# print(df['review'][0])\n",
    "# df['review'][0]=cleanhtml(df['review'][0])\n",
    "# print(df['review'][0])\n",
    "# print(df['review'][2132])\n",
    "# print(remURL(df['review'][2132]))\n",
    "# print(df['review'][2138])\n",
    "# print(remAlNu(df['review'][2138]))\n",
    "# print(remStWrds(df['review'][0]))\n",
    "# print(lemma(\"playing\"))\n",
    "# print(lemma(df['review'][0]))\n",
    "\n",
    "i=0\n",
    "for index, row in df.iterrows():\n",
    "   temp=row['review']\n",
    "   temp=temp.lower()\n",
    "   temp=cleanhtml(temp)\n",
    "   temp=remURL(temp)\n",
    "   temp=remAlNu(temp)\n",
    "   temp=remStWrds(temp)\n",
    "   temp=lemma(temp)\n",
    "   row['review']=temp\n",
    "#    i+=1\n",
    "#    if(i%100==0):\n",
    "#         print(i)"
   ]
  },
  {
   "cell_type": "code",
   "execution_count": 4,
   "metadata": {
    "colab": {
     "base_uri": "https://localhost:8080/"
    },
    "id": "DyaSkfcvYGXk",
    "outputId": "5978f63f-b0c8-4ec4-e118-cbe2a7f90b48"
   },
   "outputs": [
    {
     "name": "stdout",
     "output_type": "stream",
     "text": [
      "Avg. length of sentence in Positive class:  121.14076\n",
      "Avg. length of sentence in Negative class:  118.56368\n"
     ]
    }
   ],
   "source": [
    "# Print Statistics of Data like avg length of sentence , proposition of data w.r.t class labels\n",
    "count=0\n",
    "length=0\n",
    "for index, row in df.iterrows():\n",
    "   if(row['sentiment']=='positive'):\n",
    "      count+=1\n",
    "      length+=len(row['review'].split(\" \"))\n",
    "print(\"Avg. length of sentence in Positive class: \",length/count)\n",
    "\n",
    "count=0\n",
    "length=0\n",
    "for index, row in df.iterrows():\n",
    "   if(row['sentiment']=='negative'):\n",
    "      count+=1\n",
    "      length+=len(row['review'].split(\" \"))\n",
    "print(\"Avg. length of sentence in Negative class: \",length/count)"
   ]
  },
  {
   "cell_type": "markdown",
   "metadata": {
    "id": "_FkJ-e2pUwun"
   },
   "source": [
    "# Naive Bayes classifier"
   ]
  },
  {
   "cell_type": "code",
   "execution_count": 5,
   "metadata": {
    "id": "eVq-mN28U_J4"
   },
   "outputs": [],
   "source": [
    "# get reviews column from df\n",
    "reviews = df['review']\n",
    "\n",
    "# get labels column from df\n",
    "labels = df['sentiment']"
   ]
  },
  {
   "cell_type": "code",
   "execution_count": 6,
   "metadata": {
    "colab": {
     "base_uri": "https://localhost:8080/"
    },
    "id": "Ljo5NquhXTXr",
    "outputId": "0372fa4d-04e8-43b9-d5d9-e8f16d64ae81"
   },
   "outputs": [
    {
     "name": "stdout",
     "output_type": "stream",
     "text": [
      "[1 1 1 0 1 1 1 0 0 1 0 0 0 0 1 0 1 0 1 0]\n"
     ]
    }
   ],
   "source": [
    "# Use label encoder to encode labels. Convert to 0/1\n",
    "encoder = LabelEncoder()\n",
    "encoded_labels = encoder.fit_transform(labels)\n",
    "print(encoded_labels[:20])\n",
    "# print(enc.classes_)\n"
   ]
  },
  {
   "cell_type": "code",
   "execution_count": 7,
   "metadata": {
    "id": "wzG-C_EVWWET"
   },
   "outputs": [],
   "source": [
    "# Split the data into train and test (80% - 20%). \n",
    "# Use stratify in train_test_split so that both train and test have similar ratio of positive and negative samples.\n",
    "#,random_state=0, stratify=labels\n",
    "\n",
    "train_sentences, test_sentences, train_labels, test_labels= train_test_split(reviews, encoded_labels, test_size=0.20, random_state=0,  stratify=labels)"
   ]
  },
  {
   "cell_type": "markdown",
   "metadata": {
    "id": "Bz1YdsSkiWCX"
   },
   "source": [
    "Here there are two approaches possible for building vocabulary for the naive Bayes.\n",
    "1. Take the whole data (train + test) to build the vocab. In this way while testing there is no word which will be out of vocabulary.\n",
    "2. Take the train data to build vocab. In this case, some words from the test set may not be in vocab and hence one needs to perform smoothing so that one the probability term is not zero.\n",
    " \n",
    "You are supposed to go by the 2nd approach.\n",
    " \n",
    "Also building vocab by taking all words in the train set is memory intensive, hence you are required to build vocab by choosing the top 2000 - 3000 frequent words in the training corpus.\n",
    "\n",
    "> $ P(x_i | w_j) = \\frac{ N_{x_i,w_j}\\, +\\, \\alpha }{ N_{w_j}\\, +\\, \\alpha*d} $\n",
    "\n",
    "\n",
    "$N_{x_i,w_j}$ : Number of times feature $x_i$ appears in samples of class $w_j$\n",
    "\n",
    "$N_{w_j}$ : Total count of features in class $w_j$\n",
    "\n",
    "$\\alpha$ : Parameter for additive smoothing. Here consider $\\alpha$ = 1\n",
    "\n",
    "$d$ : Dimentionality of the feature vector  $x = [x_1,x_2,...,x_d]$. In our case its the vocab size.\n",
    "\n",
    "\n",
    "\n",
    "\n"
   ]
  },
  {
   "cell_type": "code",
   "execution_count": 8,
   "metadata": {
    "id": "1cllNfGmUr77"
   },
   "outputs": [
    {
     "name": "stdout",
     "output_type": "stream",
     "text": [
      "[3398  699  325 ...  459 1496  217]\n"
     ]
    }
   ],
   "source": [
    "from sklearn.feature_extraction.text import CountVectorizer\n",
    "# Use Count vectorizer to get frequency of the words\n",
    "'''\n",
    "max_features parameter : If not None, build a vocabulary that only consider the top max_features ordered by term frequency across the corpus.\n",
    "vec = CountVectorizer(max_features = 3000)\n",
    "X = vec.fit_transform(Sentence_list)\n",
    "'''\n",
    "vec=CountVectorizer(max_features = 3000)\n",
    "X = vec.fit_transform(train_sentences)\n",
    "features=vec.get_feature_names()\n",
    "\n",
    "frequency=X.toarray()\n",
    "pos_freq=[0 for i in range(3000)]\n",
    "neg_freq=[0 for i in range(3000)]\n",
    "\n",
    "len(frequency)\n",
    "for i in range(40000):\n",
    "    if(train_labels[i]==1):\n",
    "        for j in range(3000):\n",
    "            pos_freq[j]+=frequency[i][j]\n",
    "    else:\n",
    "        for j in range(3000):\n",
    "            neg_freq[j]+=frequency[i][j]\n",
    "print(frequency.sum(axis=0))     \n",
    "\n",
    "total_pos_features=0\n",
    "total_neg_features=0\n",
    "\n",
    "for i in range(3000):\n",
    "    total_pos_features+=pos_freq[i]\n",
    "    total_neg_features+=neg_freq[i]"
   ]
  },
  {
   "cell_type": "code",
   "execution_count": 9,
   "metadata": {
    "id": "qzRvPjWaWUnm"
   },
   "outputs": [],
   "source": [
    "# Use laplace smoothing for words in test set not present in vocab of train set\n",
    "def prob(elem):\n",
    "    i=0\n",
    "    for i in range(3000):\n",
    "        if(elem==features[i]):\n",
    "            break\n",
    "        else:\n",
    "            i+=1\n",
    "    \n",
    "    if i<3000:\n",
    "        return ((pos_freq[i]+1)/(total_pos_features+3000))/((neg_freq[i]+1)/(total_neg_features+3000))\n",
    "    else:\n",
    "        return (total_neg_features+3000)/(total_pos_features+3000)"
   ]
  },
  {
   "cell_type": "code",
   "execution_count": 10,
   "metadata": {
    "id": "iE7pxWIYW1z0"
   },
   "outputs": [],
   "source": [
    "# Build the model. Don't use the model from sklearn\n",
    "def modelNaive(text):\n",
    "    lis=text.split(\" \")\n",
    "    pr=1\n",
    "    for x in lis:\n",
    "        pr=pr*prob(x)\n",
    "        #print(pr)\n",
    "    if pr>=1.0:\n",
    "        return 1\n",
    "    else:\n",
    "        return 0"
   ]
  },
  {
   "cell_type": "code",
   "execution_count": 11,
   "metadata": {
    "id": "AtQSl1zvW4DD"
   },
   "outputs": [
    {
     "name": "stdout",
     "output_type": "stream",
     "text": [
      "Accuracy:  84.2\n"
     ]
    }
   ],
   "source": [
    "# Test the model on test set and report Accuracy\n",
    "#train_sentences, test_sentences, train_labels, test_labels= train_test_split(reviews, encoded_labels, test_size=0.20, random_state=0,  stratify=labels)\n",
    "\n",
    "match=0\n",
    "for i in range(10000):\n",
    "       #print(model(test_sentences.iloc[i]))\n",
    "       #print(test_sentences.iloc[i])\n",
    "       #if(i%100==0):\n",
    "       #      print(i)\n",
    "       if(modelNaive(test_sentences.iloc[i])==test_labels[i]):\n",
    "            match+=1\n",
    "       \n",
    "        \n",
    "print(\"Accuracy: \",match/100)            "
   ]
  },
  {
   "cell_type": "markdown",
   "metadata": {
    "id": "WlNql0acU7sa"
   },
   "source": [
    "# *LSTM* based Classifier\n",
    "\n",
    "Use the above train and test splits."
   ]
  },
  {
   "cell_type": "code",
   "execution_count": 12,
   "metadata": {
    "id": "SkqnvbUOXoN0"
   },
   "outputs": [],
   "source": [
    "# Hyperparameters of the model\n",
    "  # choose based on statistics\n",
    "wordss=[]\n",
    "for x in train_sentences:\n",
    "    for y in x.split(\" \"):\n",
    "        wordss.append(y)\n",
    "vocab_size=len(set(wordss))\n",
    "oov_tok = '<OOK>'\n",
    "embedding_dim = 100\n",
    "max_length = 150 # choose based on statistics, for example 150 to 200\n",
    "padding_type='post'\n",
    "trunc_type='post'"
   ]
  },
  {
   "cell_type": "code",
   "execution_count": 13,
   "metadata": {
    "id": "UeycEg9nZAOF"
   },
   "outputs": [],
   "source": [
    "# tokenize sentences\n",
    "#tokenizer = Tokenizer()\n",
    "tokenizer = Tokenizer(num_words = vocab_size, oov_token=oov_tok)\n",
    "tokenizer.fit_on_texts(train_sentences)\n",
    "word_index = tokenizer.word_index\n",
    "vocab_size = len(tokenizer.word_index) + 1\n",
    "\n",
    "# convert train dataset to sequence and pad sequences\n",
    "train_sequences = tokenizer.texts_to_sequences(train_sentences)\n",
    "train_padded = pad_sequences(train_sequences, padding='post', maxlen=max_length)\n",
    "\n",
    "# convert Test dataset to sequence and pad sequences\n",
    "test_sequences = tokenizer.texts_to_sequences(test_sentences)\n",
    "test_padded = pad_sequences(test_sequences, padding='post', maxlen=max_length)"
   ]
  },
  {
   "cell_type": "code",
   "execution_count": 14,
   "metadata": {
    "id": "Mtw3w895ZP39"
   },
   "outputs": [
    {
     "name": "stdout",
     "output_type": "stream",
     "text": [
      "Model: \"sequential\"\n",
      "_________________________________________________________________\n",
      "Layer (type)                 Output Shape              Param #   \n",
      "=================================================================\n",
      "embedding (Embedding)        (None, 150, 100)          17496600  \n",
      "_________________________________________________________________\n",
      "bidirectional (Bidirectional (None, 128)               84480     \n",
      "_________________________________________________________________\n",
      "dense (Dense)                (None, 24)                3096      \n",
      "_________________________________________________________________\n",
      "dense_1 (Dense)              (None, 1)                 25        \n",
      "=================================================================\n",
      "Total params: 17,584,201\n",
      "Trainable params: 17,584,201\n",
      "Non-trainable params: 0\n",
      "_________________________________________________________________\n"
     ]
    }
   ],
   "source": [
    "# model initialization\n",
    "model = keras.Sequential([\n",
    "    keras.layers.Embedding(vocab_size, embedding_dim, input_length=max_length),\n",
    "    keras.layers.Bidirectional(keras.layers.LSTM(64)),\n",
    "    keras.layers.Dense(24, activation='relu'),\n",
    "    keras.layers.Dense(1, activation='sigmoid')\n",
    "])\n",
    "\n",
    "# compile model\n",
    "model.compile(loss='binary_crossentropy',\n",
    "              optimizer='adam',\n",
    "              metrics=['accuracy'])\n",
    "\n",
    "# model summary\n",
    "model.summary()"
   ]
  },
  {
   "cell_type": "code",
   "execution_count": 15,
   "metadata": {
    "id": "skmaDJMnZTzc"
   },
   "outputs": [
    {
     "name": "stdout",
     "output_type": "stream",
     "text": [
      "Epoch 1/5\n",
      "1125/1125 [==============================] - 349s 301ms/step - loss: 0.4536 - accuracy: 0.7730 - val_loss: 0.2728 - val_accuracy: 0.8907\n",
      "Epoch 2/5\n",
      "1125/1125 [==============================] - 350s 311ms/step - loss: 0.1424 - accuracy: 0.9496 - val_loss: 0.3217 - val_accuracy: 0.8830\n",
      "Epoch 3/5\n",
      "1125/1125 [==============================] - 349s 310ms/step - loss: 0.0519 - accuracy: 0.9828 - val_loss: 0.4675 - val_accuracy: 0.8618\n",
      "Epoch 4/5\n",
      "1125/1125 [==============================] - 347s 309ms/step - loss: 0.0402 - accuracy: 0.9861 - val_loss: 0.4674 - val_accuracy: 0.8705\n",
      "Epoch 5/5\n",
      "1125/1125 [==============================] - 349s 310ms/step - loss: 0.0154 - accuracy: 0.9957 - val_loss: 0.5205 - val_accuracy: 0.8637\n"
     ]
    }
   ],
   "source": [
    "num_epochs = 5\n",
    "history = model.fit(train_padded, train_labels, \n",
    "                    epochs=num_epochs, verbose=1, \n",
    "                    validation_split=0.1)"
   ]
  },
  {
   "cell_type": "code",
   "execution_count": 16,
   "metadata": {
    "id": "TjEhWEr5Zq7M"
   },
   "outputs": [
    {
     "name": "stdout",
     "output_type": "stream",
     "text": [
      "[[7.3085678e-01]\n",
      " [9.9996763e-01]\n",
      " [9.9874055e-01]\n",
      " ...\n",
      " [1.3092186e-05]\n",
      " [1.0930667e-04]\n",
      " [1.1824369e-03]]\n",
      "[[1]\n",
      " [1]\n",
      " [1]\n",
      " ...\n",
      " [0]\n",
      " [0]\n",
      " [0]]\n",
      "              precision    recall  f1-score   support\n",
      "\n",
      "           0       0.88      0.84      0.86      5000\n",
      "           1       0.85      0.89      0.87      5000\n",
      "\n",
      "    accuracy                           0.87     10000\n",
      "   macro avg       0.87      0.87      0.87     10000\n",
      "weighted avg       0.87      0.87      0.87     10000\n",
      "\n"
     ]
    }
   ],
   "source": [
    "# Calculate accuracy on Test data\n",
    "\n",
    "\n",
    "\n",
    "# Get probabilities\n",
    "prediction = model.predict(test_padded)\n",
    "print(prediction)\n",
    "\n",
    "# Get labels based on probability 1 if p>= 0.5 else 0\n",
    "for x in prediction:\n",
    "    if x[0] >=0.5:\n",
    "        x[0] = 1\n",
    "    else:\n",
    "        x[0] = 0\n",
    "        \n",
    "prediction = prediction.astype('int32') \n",
    "print(prediction)\n",
    "# Accuracy : one can use classification_report from sklearn\n",
    "print(classification_report(test_labels, prediction, labels=[0, 1]),sep='\\n')"
   ]
  },
  {
   "cell_type": "markdown",
   "metadata": {
    "id": "TIICV-ySOYL0"
   },
   "source": [
    "## Get predictions for random examples"
   ]
  },
  {
   "cell_type": "code",
   "execution_count": 17,
   "metadata": {
    "id": "m2RmfNL3OYL0"
   },
   "outputs": [
    {
     "name": "stdout",
     "output_type": "stream",
     "text": [
      "[[0.7759568 ]\n",
      " [0.04457322]\n",
      " [0.01447397]]\n",
      "[[1]\n",
      " [0]\n",
      " [0]]\n"
     ]
    }
   ],
   "source": [
    "# reviews on which we need to predict\n",
    "sentence = [\"The movie was very touching and heart whelming\", \n",
    "            \"I have never seen a terrible movie like this\", \n",
    "            \"the movie plot is terrible but it had good acting\"]\n",
    "\n",
    "# convert to a sequence\n",
    "sequences = tokenizer.texts_to_sequences(sentence)\n",
    "\n",
    "# pad the sequence\n",
    "padded = pad_sequences(sequences, padding='post', maxlen=max_length)\n",
    "\n",
    "# Get probabilities\n",
    "preds=model.predict(padded)\n",
    "print(preds)\n",
    "\n",
    "# Get labels based on probability 1 if p>= 0.5 else 0\n",
    "for x in preds:\n",
    "    if x[0] >=0.5:\n",
    "        x[0] = 1\n",
    "    else:\n",
    "        x[0] = 0\n",
    "preds = preds.astype('int32') \n",
    "print(preds)"
   ]
  }
 ],
 "metadata": {
  "colab": {
   "collapsed_sections": [],
   "name": "NLP_CS60075_A21_Assn2.ipynb",
   "provenance": []
  },
  "kernelspec": {
   "display_name": "Python 3",
   "language": "python",
   "name": "python3"
  },
  "language_info": {
   "codemirror_mode": {
    "name": "ipython",
    "version": 3
   },
   "file_extension": ".py",
   "mimetype": "text/x-python",
   "name": "python",
   "nbconvert_exporter": "python",
   "pygments_lexer": "ipython3",
   "version": "3.8.5"
  }
 },
 "nbformat": 4,
 "nbformat_minor": 1
}
